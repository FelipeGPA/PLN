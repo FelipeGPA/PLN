{
  "nbformat": 4,
  "nbformat_minor": 0,
  "metadata": {
    "colab": {
      "provenance": [],
      "collapsed_sections": [
        "D7hJlilKM485"
      ],
      "include_colab_link": true
    },
    "kernelspec": {
      "name": "python3",
      "display_name": "Python 3"
    }
  },
  "cells": [
    {
      "cell_type": "markdown",
      "metadata": {
        "id": "view-in-github",
        "colab_type": "text"
      },
      "source": [
        "<a href=\"https://colab.research.google.com/github/FelipeGPA/PLN/blob/main/C%C3%B3pia_de_2023_Q3_PLN_ATIVIDADE_PR%C3%81TICA_02.ipynb\" target=\"_parent\"><img src=\"https://colab.research.google.com/assets/colab-badge.svg\" alt=\"Open In Colab\"/></a>"
      ]
    },
    {
      "cell_type": "markdown",
      "metadata": {
        "id": "Y6QILOdpOjwv"
      },
      "source": [
        "# **Processamento de Linguagem Natural [2023.Q3]**\n",
        "Prof. Alexandre Donizeti Alves"
      ]
    },
    {
      "cell_type": "markdown",
      "metadata": {
        "id": "8m67OOx9MX_3"
      },
      "source": [
        "### **ATIVIDADE PRÁTICA 02 [Extração e Pré-processamento de Dados + Expressões Regulares]**\n"
      ]
    },
    {
      "cell_type": "markdown",
      "metadata": {
        "id": "5Gk0nHKabBT-"
      },
      "source": [
        "A **ATIVIDADE PRÁTICA 02** deve ser feita utilizando o **Google Colab** com uma conta\n",
        "sua vinculada ao Gmail. O link do seu notebook, armazenado no Google Drive, além do link de um repositório no GitHub e os principais resultados da atividade, devem ser enviados usando o seguinte formulário:\n",
        "\n",
        "> https://forms.gle/83JggUJ1mhgWviEaA\n",
        "\n",
        "\n",
        "**IMPORTANTE**: A submissão deve ser feita até o dia 16/10 (segunda-feira) APENAS POR UM INTEGRANTE DA EQUIPE, até às 23h59. Por favor, lembre-se de dar permissão de ACESSO IRRESTRITO para o professor da disciplina de PLN."
      ]
    },
    {
      "cell_type": "markdown",
      "metadata": {
        "id": "D7hJlilKM485"
      },
      "source": [
        "### **EQUIPE**\n",
        "\n",
        "---"
      ]
    },
    {
      "cell_type": "markdown",
      "source": [
        "**POR FAVOR, PREENCHER OS INTEGRANDES DA SUA EQUIPE:**\n",
        "\n",
        "\n",
        "**Integrante 01:**\n",
        "\n",
        "`Por favor, informe o seu nome completo e RA:`\n",
        " Felipe Gonçalves Paulo de Almeida 11201921612\n",
        "\n",
        "**Integrante 02:**\n",
        "\n",
        "`Por favor, informe o seu nome completo e RA:`\n",
        " André Luiz Duarte Cesar 11201922263\n"
      ],
      "metadata": {
        "id": "tnIArN0QY-Ek"
      }
    },
    {
      "cell_type": "markdown",
      "source": [
        "### **LIVRO**\n",
        "---"
      ],
      "metadata": {
        "id": "6yExhaebs-nD"
      }
    },
    {
      "cell_type": "markdown",
      "source": [
        "`Processamento de Linguagem Natural - Conceitos, Técnicas e Aplicações em Português.`\n",
        "\n",
        ">\n",
        "\n",
        "Disponível gratuitamente em:\n",
        "  \n",
        "  > https://brasileiraspln.com/livro-pln/1a-edicao/.\n",
        "\n",
        "\n",
        "**POR FAVOR, PREENCHER OS CAPITULOS SELECIONADOS PARA A SUA EQUIPE:**\n",
        "\n",
        "`Primeiro capítulo:` 13\n",
        "\n",
        "`Segundo capítulo:` 25\n",
        "\n"
      ],
      "metadata": {
        "id": "DjJM_qhEZRy6"
      }
    },
    {
      "cell_type": "markdown",
      "metadata": {
        "id": "EtjgWQRzNphL"
      },
      "source": [
        "### **DESCRIÇÃO**\n",
        "---"
      ]
    },
    {
      "cell_type": "markdown",
      "source": [
        "Implementar um `notebook` no `Google Colab` para identificar ERROS em 2 (DOIS) capítulos do livro **Processamento de Linguagem Natural - Conceitos, Técnicas e Aplicações em Português**.\n",
        "\n",
        "Os capítulos devem ser selecionados na seguinte planilha:\n",
        "\n",
        "https://docs.google.com/spreadsheets/d/1ZutzQ3v1OJgsgzCvCwxXlRIQ3ChXNlHNvB63JQvYsbo/edit?usp=sharing\n",
        "\n",
        ">\n",
        "\n",
        "**IMPORTANTE:** É obrigatório usar o e-mail da UFABC.\n",
        "\n",
        ">\n",
        "\n",
        "\n",
        "**DICA:** Por favor, insira o seu nome ou da sua equipe na ordem definida na planilha. Por exemplo, se a linha correspondente ao o GRUPO 5 já foi preenchida, a próxima equipe (GRUPO 6) deverá ser informada na próxima linha da planilha.\n",
        "\n"
      ],
      "metadata": {
        "id": "fXTwkiiGs2BV"
      }
    },
    {
      "cell_type": "markdown",
      "source": [
        "### **TIPOS DE ERROS**\n",
        "---\n"
      ],
      "metadata": {
        "id": "eD_AJQhrwJQ6"
      }
    },
    {
      "cell_type": "markdown",
      "source": [
        "**IMPORTANTE**: consulta feita no ChatGPT\n",
        ">\n",
        "\n",
        "Um `programa Python` que utilize `expressões regulares` pode ajudar a identificar vários **tipos de erros** comuns em **livros**, especialmente erros de formatação e problemas relacionados à consistência do texto. Aqui estão alguns exemplos de erros comuns que podem ser identificados usando expressões regulares:\n",
        "\n",
        "* Erros de gramática e ortografia: erros de digitação, concordância verbal e nominal, uso incorreto de pontuação e outros erros gramaticais.\n",
        "\n",
        "* Problemas de formatação: você pode usar expressões regulares para encontrar erros de formatação, como espaços em excesso, tabulações inadequadas ou alinhamentos inconsistentes.\n",
        "\n",
        "* Abreviações e acrônimos: você pode usar expressões regulares para encontrar abreviações ou acrônimos que não foram definidos ou explicados anteriormente no texto.\n",
        "\n",
        "* Citações e referências: expressões regulares podem ser úteis para localizar citações ou referências que precisam de formatação especial.\n",
        "\n",
        "* OUTROS TIPOS DE ERROS: não considerem apenas os tipos de erros citados acima.\n",
        "\n",
        "\n",
        "**IMPORTANTE:** Lembre-se de que expressões regulares podem ser poderosas, mas também complexas. Dependendo da complexidade dos erros que você deseja identificar, pode ser necessário ajustar as expressões regulares de acordo com as características específicas do seu texto. Além disso, é importante ter em mente que as expressões regulares podem não ser a melhor ferramenta para todos os tipos de erros em livros, especialmente problemas mais contextuais ou semânticos, que podem exigir abordagens de PLN mais avançadas.\n",
        "\n",
        "\n",
        "\n"
      ],
      "metadata": {
        "id": "gz0DTI0KYmn6"
      }
    },
    {
      "cell_type": "markdown",
      "source": [
        "### **CRITÉRIOS DE AVALIAÇÃO**\n",
        "---\n"
      ],
      "metadata": {
        "id": "gWsBYQNtxmum"
      }
    },
    {
      "cell_type": "markdown",
      "source": [
        "A equipe que **realizar mais testes** e/ou **identificar mais erros** terá o peso diminuido na AVALIAÇÃO (Prova Escrita) em **25%** (caindo de 40 para 30). Os testes e possíveis erros devem ser contabizados de maneira separada.\n",
        "\n",
        ">\n",
        "\n",
        "Além disso, **por se tratar de um livro**, há um teste importante que deve ser feito. Lembre-se que o teste deve ser feito utilizando expressões regulares. A equipe que realizar esse teste, mesmo que o erro não ocorra nos capítulos selecionados, terá o peso diminuido na AVALIAÇÃO (Prova Escrita) em **25%** (caindo de 40 para 30).\n",
        "\n",
        "> A equipe pode considerar outros capítulos do livro para tentar identificar esse tipo de erro.\n",
        "\n",
        "**Se for a mesma equipe, o peso da avaliação será reduzido em 50% (caindo de 40 para 20)**.\n",
        "\n",
        ">\n",
        "\n",
        "**IMPORTANTE**: a diminuição no peso da AVALIAÇÃO será aplicado para todos os membros da equipe. Esse critério será aplicado apenas para uma equipe, considerando como critério de desempate a equipe que entregar primeiro a atividade no formulário.\n",
        "\n",
        "\n",
        "\n"
      ],
      "metadata": {
        "id": "5iHdx4BXYruQ"
      }
    },
    {
      "cell_type": "markdown",
      "source": [
        "### **IMPLEMENTAÇÃO**\n",
        "---"
      ],
      "metadata": {
        "id": "nw09lujGvfjc"
      }
    },
    {
      "cell_type": "code",
      "source": [
        "import requests\n",
        "from bs4 import BeautifulSoup\n",
        "import re\n",
        "\n",
        "\n",
        "url = 'https://brasileiraspln.com/livro-pln/1a-edicao/parte6/cap13/cap13.html'\n",
        "\n",
        "# Faz a solicitação HTTP para obter o conteúdo HTML da página do livro\n",
        "response = requests.get(url)\n",
        "\n",
        "# Cria um objeto BeautifulSoup para analisar o conteúdo HTML\n",
        "soup = BeautifulSoup(response.content, 'html.parser')\n",
        "\n",
        "# Encontra o elemento HTML que contém o texto do livro\n",
        "book_text = soup.find('main',{'id': 'quarto-document-content'})\n",
        "\n",
        "# Extrai o texto do livro a partir do elemento HTML\n",
        "book = book_text.get_text()"
      ],
      "metadata": {
        "id": "RyUailD5vi9E"
      },
      "execution_count": null,
      "outputs": []
    },
    {
      "cell_type": "code",
      "source": [
        "erro_parenteses = re.findall(r'\\w+\\(', book)\n",
        "count_parenteses = len(erro_parenteses)\n",
        "print(f'O número de parenteses sem espaço antes é {count_parenteses}.')\n",
        "\n",
        "\n",
        "erro_espaco = re.findall(r'\\b\\s{2,}\\b', book)\n",
        "count_espaco = len(erro_espaco)\n",
        "print(f'O número de erros com espaços a mais é {count_espaco}.')\n",
        "\n",
        "\n",
        "erro_virgula = re.findall(r'\\s,|,\\S|,$', book)   #espaços antes da virgula ou falta de espaço depois da virgula\n",
        "decimais = re.findall(r'(\\d+,\\d+)', book)        #numeros decimais como 7,33\n",
        "count_virgula = len(erro_virgula) - len(decimais)\n",
        "print(f'O número de erros de vírgula encontrados é {count_virgula}.' )\n",
        "\n",
        "\n",
        "erro_pontos = re.findall(r'\\s\\.|\\.\\S|\\.$', book)  #espaços antes do ponto ou falta de espaço depois do ponto (não sei se ta certo não)\n",
        "numeros = re.findall(r'(\\d+\\.\\d+)', book)          #numeros com ponto como 2.1\n",
        "count_pontos = len(erro_pontos) - len(numeros)\n",
        "print(f'O número de erros de pontos encontrados é {count_pontos}.' )\n",
        "\n",
        "\n",
        "siglas = re.findall(r'\\b([A-Z]{2,})', book)        #Todas as siglas presentes no texto\n",
        "siglas_explicadas = re.findall(r'\\b([A-Z]{2,})\\s+\\(', book)  #Siglas que são seguidas por um parenteses de explicação\n",
        "siglas_unicas = set(siglas)                         #Remover repetições de siglas, pois siglas repetidas não precisam ser explicadas\n",
        "erros_siglas = len(siglas_unicas) - len(siglas_explicadas)\n",
        "print(f'O número de erros de siglas encontrados é {erros_siglas}.' )\n",
        "\n",
        "\n",
        "paragrafos_space = re.findall(r'^(?!\\s+).+', book, flags=re.MULTILINE)      #Busca todos os paragrafos que se iniciam sem o seu devido espaço\n",
        "count_paragrafos = len(paragrafos_space)                                 #Faz a contagem dos mesmos\n",
        "print(f'O número de parágrafos que se inicia sem o devido espaço é {count_paragrafos}.')\n"
      ],
      "metadata": {
        "colab": {
          "base_uri": "https://localhost:8080/"
        },
        "outputId": "6de791b5-1c44-45b3-c136-35da3f24159f",
        "id": "Wpov9gjyFkVJ"
      },
      "execution_count": null,
      "outputs": [
        {
          "output_type": "stream",
          "name": "stdout",
          "text": [
            "O número de parenteses sem espaço antes é 0.\n",
            "O número de erros com espaços a mais é 5.\n",
            "O número de erros de vírgula encontrados é 0.\n",
            "O número de erros de pontos encontrados é 1.\n",
            "O número de erros de siglas encontrados é 4.\n",
            "O número de parágrafos que se inicia sem o devido espaço é 6.\n"
          ]
        }
      ]
    },
    {
      "cell_type": "code",
      "source": [
        "import requests\n",
        "from bs4 import BeautifulSoup\n",
        "import re\n",
        "\n",
        "\n",
        "url2 = 'https://brasileiraspln.com/livro-pln/1a-edicao/parte10/cap25/cap25.html'\n",
        "\n",
        "# Faz a solicitação HTTP para obter o conteúdo HTML da página do livro\n",
        "response2 = requests.get(url2)\n",
        "\n",
        "# Cria um objeto BeautifulSoup para analisar o conteúdo HTML\n",
        "soup = BeautifulSoup(response2.content, 'html.parser')\n",
        "\n",
        "# Encontra o elemento HTML que contém o texto do livro\n",
        "book_text2 = soup.find('section', {'id': 'desafios-e-perspectivas-para-o-pln-português'})\n",
        "book_text3 = soup.find('section', {'id': 'há-limites-para-o-pln'})\n",
        "# Extrai o texto do livro a partir do elemento HTML\n",
        "book2 = book_text2.get_text() + book_text3.get_text()"
      ],
      "metadata": {
        "id": "o4gxmkgV_X6l"
      },
      "execution_count": null,
      "outputs": []
    },
    {
      "cell_type": "code",
      "source": [
        "erro_parenteses = re.findall(r'\\w+\\(', book2)\n",
        "count_parenteses = len(erro_parenteses)\n",
        "print(f'O número de parenteses sem espaço antes é {count_parenteses}.')\n",
        "\n",
        "erro_espaco = re.findall(r'\\b\\s{2,}\\b', book2)\n",
        "count_espaco = len(erro_espaco)\n",
        "print(f'O número de erros com espaços a mais é {count_espaco}.')\n",
        "\n",
        "erro_virgula = re.findall(r'\\s,|,\\S|,$', book2)   #espaços antes da virgula ou falta de espaço depois da virgula\n",
        "decimais = re.findall(r'(\\d+,\\d+)', book2)        #numeros decimais como 7,33\n",
        "count_virgula = len(erro_virgula) - len(decimais)\n",
        "print(f'O número de erros de vírgula encontrados é {count_virgula}.' )\n",
        "\n",
        "erro_pontos = re.findall(r'\\s\\.|\\.\\S|\\.$', book2)  #espaços antes do ponto ou falta de espaço depois do ponto\n",
        "numeros = re.findall(r'(\\d+\\.\\d+)', book2)          #numeros com ponto como 2.1\n",
        "count_pontos = len(erro_pontos) - len(numeros)\n",
        "print(f'O número de erros de pontos encontrados é {count_pontos}.' )\n",
        "\n",
        "siglas = re.findall(r'\\b([A-Z]{2,})', book2)        #Todas as siglas presentes no texto\n",
        "siglas_explicadas = re.findall(r'\\b([A-Z]{2,})\\s+\\(', book2)  #Siglas que são seguidas por um parenteses de explicação\n",
        "siglas_unicas = set(siglas)                         #Remover repetições de siglas, pois siglas repetidas não precisam ser explicadas\n",
        "\n",
        "erros_siglas = len(siglas_unicas) - len(siglas_explicadas)\n",
        "print(f'O número de erros de siglas encontrados é {erros_siglas}.' )\n",
        "\n",
        "\n",
        "paragrafos_sem_espaco = re.findall(r'^(?!\\s+).+', book2, flags=re.MULTILINE)      #Busca todos os paragrafos que se iniciam sem o seu devido espaço\n",
        "count_paragrafos_erro = len(paragrafos_sem_espaco)                                 #Faz a contagem dos mesmos\n",
        "paragrafos_errados = len(paragrafos_sem_espaco) - 2                                 #Após análise dos parágrafos, notamos que o HTML estava requisitando 2 paragrafos indevidos, portanto fizemos a subtração\n",
        "print(f'O número de parágrafos que se inicia sem o devido espaço é {paragrafos_errados}.')"
      ],
      "metadata": {
        "id": "qQUPziQ_8k-W",
        "colab": {
          "base_uri": "https://localhost:8080/"
        },
        "outputId": "84ede301-aa8a-4c1e-9f36-f3d128cea609"
      },
      "execution_count": null,
      "outputs": [
        {
          "output_type": "stream",
          "name": "stdout",
          "text": [
            "O número de parenteses sem espaço antes é 1.\n",
            "O número de erros com espaços a mais é 0.\n",
            "O número de erros de vírgula encontrados é 0.\n",
            "O número de erros de pontos encontrados é 11.\n",
            "O número de erros de siglas encontrados é 20.\n",
            "O número de parágrafos que se inicia sem o devido espaço é 20.\n"
          ]
        }
      ]
    },
    {
      "cell_type": "code",
      "source": [
        "!pip install pyspellchecker"
      ],
      "metadata": {
        "colab": {
          "base_uri": "https://localhost:8080/"
        },
        "id": "_3L8_K3x75fE",
        "outputId": "c8206b0a-9658-4d7b-89c1-208715db3af4"
      },
      "execution_count": null,
      "outputs": [
        {
          "output_type": "stream",
          "name": "stdout",
          "text": [
            "Requirement already satisfied: pyspellchecker in /usr/local/lib/python3.10/dist-packages (0.7.2)\n"
          ]
        }
      ]
    },
    {
      "cell_type": "code",
      "source": [
        "from spellchecker import SpellChecker\n",
        "\n",
        "corretor = SpellChecker(language='pt')\n",
        "palavras = re.findall(r'\\w+', book)\n",
        "\n",
        "palavras_corrigidas = []\n",
        "erros = 0\n",
        "for palavra in palavras:\n",
        "    palavra_corrigida = corretor.correction(palavra)\n",
        "    palavras_corrigidas.append(palavra_corrigida)\n",
        "    if palavra_corrigida != palavra:\n",
        "      erros = erros + 1\n",
        "      print(palavra)\n",
        "      print(palavra_corrigida)\n",
        "print (f'foram encontrados {erros} erros ortograficos')\n",
        "\n",
        "#Tentamos usar uma biblioteca para erros ortográficos, porem ela percebemos que ela não funciona muito bem"
      ],
      "metadata": {
        "id": "Qc4RpMjp7917"
      },
      "execution_count": null,
      "outputs": []
    }
  ]
}